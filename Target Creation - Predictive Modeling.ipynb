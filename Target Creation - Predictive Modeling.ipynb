{
 "cells": [
  {
   "cell_type": "markdown",
   "metadata": {},
   "source": [
    "# Target Creation"
   ]
  },
  {
   "cell_type": "markdown",
   "metadata": {},
   "source": [
    "#### An \"adopted user\" is a user who has logged into the product on three separate days in at least one seven-day period. I created a function which identified an adopted user"
   ]
  },
  {
   "cell_type": "code",
   "execution_count": 4,
   "metadata": {},
   "outputs": [],
   "source": [
    "import pandas as pd\n",
    "import numpy as np"
   ]
  },
  {
   "cell_type": "code",
   "execution_count": 5,
   "metadata": {},
   "outputs": [],
   "source": [
    "user_engagement = pd.read_csv(\"takehome_user_engagement-intern.csv\",sep=\",\",error_bad_lines=False)\n",
    "user_engagement['time_stamp'] = pd.to_datetime(user_engagement['time_stamp'], format=\"%Y-%m-%d\")\n",
    "user_engagement['time_stamp'] = user_engagement['time_stamp'].dt.date\n",
    "users = pd.read_csv(\"takehome_users-intern.csv\",sep=\",\",encoding=\"ISO-8859-1\")"
   ]
  },
  {
   "cell_type": "code",
   "execution_count": 6,
   "metadata": {},
   "outputs": [
    {
     "data": {
      "text/plain": [
       "(12000, 11)"
      ]
     },
     "execution_count": 6,
     "metadata": {},
     "output_type": "execute_result"
    }
   ],
   "source": [
    "users.shape"
   ]
  },
  {
   "cell_type": "code",
   "execution_count": 7,
   "metadata": {},
   "outputs": [],
   "source": [
    "def adopted_user(user_engagement,users):\n",
    "    u =  users['object_id'].unique()\n",
    "    df = pd.DataFrame(columns=[\"user_id\", \"target\"])\n",
    "    \n",
    "    for i in range(1,len(u)+1):\n",
    "        a = user_engagement[(user_engagement['user_id'] == i)]\n",
    "        if a.empty == True:\n",
    "            b = pd.DataFrame(columns=[\"user_id\", \"target\"], data=[[i,0]])\n",
    "            df = df.append(b)\n",
    "            continue\n",
    "        else:\n",
    "            x=(a.groupby('user_id')['visited'].agg(['sum']) < 3).reset_index()\n",
    "            if x['sum'].bool() == True:\n",
    "                b = pd.DataFrame(columns=[\"user_id\", \"target\"], data=[[i,0]])\n",
    "                df = df.append(b)\n",
    "            else:\n",
    "                for j in range(0,a.shape[0]-2):\n",
    "                    \n",
    "                    if (a.iloc[j+2,0] - a.iloc[j,0]).days < 8:\n",
    "                        b = pd.DataFrame(columns=[\"user_id\", \"target\"], data=[[i,1]])\n",
    "                        df = df.append(b)\n",
    "                        if b.get_value(0,'target') == 1:\n",
    "                            break\n",
    "                        else:\n",
    "                            continue\n",
    "                    else:\n",
    "                        b = pd.DataFrame(columns=[\"user_id\", \"target\"], data=[[i,0]])\n",
    "                        df = df.append(b)\n",
    "    df = pd.DataFrame((df.groupby('user_id')['target'].agg(['max'])).reset_index()).rename(columns={'max':'target'})\n",
    "    return(df)"
   ]
  },
  {
   "cell_type": "code",
   "execution_count": 8,
   "metadata": {},
   "outputs": [
    {
     "name": "stderr",
     "output_type": "stream",
     "text": [
      "C:\\Users\\ppital499\\AppData\\Local\\Continuum\\anaconda3.6\\lib\\site-packages\\ipykernel_launcher.py:22: FutureWarning: get_value is deprecated and will be removed in a future release. Please use .at[] or .iat[] accessors instead\n"
     ]
    }
   ],
   "source": [
    "target = adopted_user(user_engagement,users)"
   ]
  },
  {
   "cell_type": "code",
   "execution_count": 9,
   "metadata": {},
   "outputs": [
    {
     "data": {
      "text/plain": [
       "12000"
      ]
     },
     "execution_count": 9,
     "metadata": {},
     "output_type": "execute_result"
    }
   ],
   "source": [
    "target['user_id'].count()"
   ]
  },
  {
   "cell_type": "code",
   "execution_count": 10,
   "metadata": {},
   "outputs": [
    {
     "data": {
      "text/plain": [
       "1656"
      ]
     },
     "execution_count": 10,
     "metadata": {},
     "output_type": "execute_result"
    }
   ],
   "source": [
    "target['target'].sum()"
   ]
  },
  {
   "cell_type": "code",
   "execution_count": null,
   "metadata": {},
   "outputs": [],
   "source": []
  }
 ],
 "metadata": {
  "kernelspec": {
   "display_name": "Python 3",
   "language": "python",
   "name": "python3"
  },
  "language_info": {
   "codemirror_mode": {
    "name": "ipython",
    "version": 3
   },
   "file_extension": ".py",
   "mimetype": "text/x-python",
   "name": "python",
   "nbconvert_exporter": "python",
   "pygments_lexer": "ipython3",
   "version": "3.6.4"
  }
 },
 "nbformat": 4,
 "nbformat_minor": 2
}
